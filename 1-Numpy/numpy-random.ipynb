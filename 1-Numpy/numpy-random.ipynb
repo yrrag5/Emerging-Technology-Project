{
 "cells": [
  {
   "cell_type": "markdown",
   "metadata": {},
   "source": [
    "# Numpy-Random Notebook"
   ]
  },
  {
   "cell_type": "markdown",
   "metadata": {},
   "source": [
    "Author - Garry Cummins\n",
    "\n",
    "ID - G00335806"
   ]
  },
  {
   "cell_type": "markdown",
   "metadata": {},
   "source": [
    "# Notebook Contents\n",
    "\n",
    " \n",
    "**[Introduction]()**\n",
    "***\n",
    "**[Numpy Random Package]()**\n",
    "***\n",
    "**[Imports used and required for numpy]()**\n",
    "***\n",
    "**[Samples of numpy uses]()**\n",
    "***\n",
    "**[MathPlot Graphing Data]()**\n",
    "***\n",
    "**[ Examples of Distributions used for Numpy]()**\n",
    "***\n",
    "-  **[Uniform]()**\n",
    "***\n",
    "-  **[Power]()**\n",
    "***\n",
    "-  **[Gamma]()**\n",
    "***\n",
    "-  **[Binomial]()**\n",
    "***\n",
    "  **[Random Generator]()**\n",
    "***\n",
    "-  **[Random Sample]()**\n",
    "***\n",
    "-  **[Random Seed]()**\n",
    "***\n",
    "  **[References]()**\n",
    "***\n"
   ]
  },
  {
   "cell_type": "markdown",
   "metadata": {},
   "source": [
    "# Numpy Random Package"
   ]
  },
  {
   "cell_type": "markdown",
   "metadata": {},
   "source": [
    "NumPy is used as the fundamental package for scientific computing with Python. It uses tools for intergreated code(C/C++) and N-dimensional array objects.\n",
    "\n",
    "It is mainly used for its scientific purposes, but it can also be used as an efficient multi-dimensional container of generic data."
   ]
  },
  {
   "cell_type": "markdown",
   "metadata": {},
   "source": [
    "# Imports used and required for numpy"
   ]
  },
  {
   "cell_type": "code",
   "execution_count": 41,
   "metadata": {},
   "outputs": [],
   "source": [
    "# All imports used for numpy notebook\n",
    "import numpy as np\n",
    "# Used for ploting data on a graph\n",
    "import matplotlib.pyplot as plt\n",
    "# Used for gamma distribution\n",
    "import scipy.special as sps"
   ]
  },
  {
   "cell_type": "markdown",
   "metadata": {},
   "source": [
    "# Samples of numpy uses"
   ]
  },
  {
   "cell_type": "markdown",
   "metadata": {},
   "source": [
    "Random will Generate random double number from 0 to 10 with a returning float value."
   ]
  },
  {
   "cell_type": "code",
   "execution_count": 42,
   "metadata": {},
   "outputs": [
    {
     "data": {
      "text/plain": [
       "3.7007485585539355"
      ]
     },
     "execution_count": 42,
     "metadata": {},
     "output_type": "execute_result"
    }
   ],
   "source": [
    "\n",
    "np.random.uniform(0.0, 10.0)"
   ]
  },
  {
   "cell_type": "markdown",
   "metadata": {},
   "source": [
    "Creates a standard array with 15 values."
   ]
  },
  {
   "cell_type": "code",
   "execution_count": 43,
   "metadata": {},
   "outputs": [
    {
     "data": {
      "text/plain": [
       "array([ 0,  1,  2,  3,  4,  5,  6,  7,  8,  9, 10, 11, 12, 13, 14])"
      ]
     },
     "execution_count": 43,
     "metadata": {},
     "output_type": "execute_result"
    }
   ],
   "source": [
    "np.arange(15)"
   ]
  },
  {
   "cell_type": "markdown",
   "metadata": {},
   "source": [
    "Np.arange will create a array with a given number of values (15) and order it with 3 rows and 5 columns."
   ]
  },
  {
   "cell_type": "code",
   "execution_count": 44,
   "metadata": {},
   "outputs": [
    {
     "data": {
      "text/plain": [
       "array([[ 0,  1,  2,  3,  4],\n",
       "       [ 5,  6,  7,  8,  9],\n",
       "       [10, 11, 12, 13, 14]])"
      ]
     },
     "execution_count": 44,
     "metadata": {},
     "output_type": "execute_result"
    }
   ],
   "source": [
    "np.arange(15).reshape(3, 5)\n"
   ]
  },
  {
   "cell_type": "markdown",
   "metadata": {},
   "source": [
    "Same as arange but instead all array values will be given a value of 1."
   ]
  },
  {
   "cell_type": "code",
   "execution_count": 45,
   "metadata": {},
   "outputs": [
    {
     "data": {
      "text/plain": [
       "array([[1., 1., 1., 1.],\n",
       "       [1., 1., 1., 1.],\n",
       "       [1., 1., 1., 1.]])"
      ]
     },
     "execution_count": 45,
     "metadata": {},
     "output_type": "execute_result"
    }
   ],
   "source": [
    "np.ones((3,4))"
   ]
  },
  {
   "cell_type": "markdown",
   "metadata": {},
   "source": [
    "Creates a random value"
   ]
  },
  {
   "cell_type": "code",
   "execution_count": 46,
   "metadata": {},
   "outputs": [
    {
     "data": {
      "text/plain": [
       "5.885576417187036"
      ]
     },
     "execution_count": 46,
     "metadata": {},
     "output_type": "execute_result"
    }
   ],
   "source": [
    "np.random.normal(5.0, 1.0)"
   ]
  },
  {
   "cell_type": "markdown",
   "metadata": {},
   "source": [
    "# Matplotlib graphing data"
   ]
  },
  {
   "cell_type": "markdown",
   "metadata": {},
   "source": [
    "Before we can create graphs, we first need to import the matplotlib.pyplot package which will help us with plotting are distributions."
   ]
  },
  {
   "cell_type": "markdown",
   "metadata": {},
   "source": [
    "Creates a array and plots it on a bar chart"
   ]
  },
  {
   "cell_type": "code",
   "execution_count": 47,
   "metadata": {},
   "outputs": [
    {
     "data": {
      "text/plain": [
       "([array([1., 0., 0., 0., 0., 1., 0., 1., 0., 0.]),\n",
       "  array([0., 1., 0., 0., 1., 0., 0., 0., 0., 1.]),\n",
       "  array([1., 0., 0., 1., 0., 0., 1., 0., 0., 0.]),\n",
       "  array([0., 0., 1., 0., 0., 0., 0., 1., 0., 1.])],\n",
       " array([ 1.96343759, 11.6711594 , 21.3788812 , 31.08660301, 40.79432481,\n",
       "        50.50204662, 60.20976843, 69.91749023, 79.62521204, 89.33293384,\n",
       "        99.04065565]),\n",
       " <a list of 4 Lists of Patches objects>)"
      ]
     },
     "execution_count": 47,
     "metadata": {},
     "output_type": "execute_result"
    },
    {
     "data": {
      "image/png": "[encoded data removed]",
      "text/plain": [
       "<Figure size 432x288 with 1 Axes>"
      ]
     },
     "metadata": {
      "needs_background": "light"
     },
     "output_type": "display_data"
    }
   ],
   "source": [
    "x = np.random.rand(3,4)*100\n",
    "plt.hist(x)"
   ]
  },
  {
   "cell_type": "markdown",
   "metadata": {},
   "source": [
    "Plots a graph from points 1 to 5 with labels."
   ]
  },
  {
   "cell_type": "code",
   "execution_count": 48,
   "metadata": {},
   "outputs": [
    {
     "data": {
      "image/png": "[encoded data removed]",
      "text/plain": [
       "<Figure size 432x288 with 1 Axes>"
      ]
     },
     "metadata": {
      "needs_background": "light"
     },
     "output_type": "display_data"
    }
   ],
   "source": [
    "plt.plot([1,2,3,4,5])\n",
    "plt.xlabel('TestX')\n",
    "plt.ylabel('TestY')\n",
    "plt.show()"
   ]
  },
  {
   "cell_type": "markdown",
   "metadata": {},
   "source": [
    "#  Examples of Distributions used for Numpy "
   ]
  },
  {
   "cell_type": "markdown",
   "metadata": {},
   "source": [
    "## Uniform"
   ]
  },
  {
   "cell_type": "markdown",
   "metadata": {},
   "source": [
    "Uniform draws out samples from the uniform distribution - (numpy.random.uniform) The parameters passed through are:\n",
    "\n",
    "Low - Float, optional lower boundary of the ouput interval.\n",
    "\n",
    "High - Float, optional upper boundary of the ouput interval.\n",
    "\n",
    "Size - Int, ouputs the shape.\n",
    "\n",
    "Out - Draws samples of uniform distribution.\n",
    "\n",
    "\n",
    "When high == low, values of low will be returned. If high < low, the results are officially undefined and may eventually raise an error, i.e. do not rely on this function to behave when passed arguments satisfying that inequality condition.\n",
    "\n"
   ]
  },
  {
   "cell_type": "code",
   "execution_count": 49,
   "metadata": {},
   "outputs": [],
   "source": [
    "# Random numbers generated\n",
    "s = np.random.uniform(-1,0,1000)"
   ]
  },
  {
   "cell_type": "markdown",
   "metadata": {},
   "source": [
    "Gives random distribution probability through the density function."
   ]
  },
  {
   "cell_type": "code",
   "execution_count": 50,
   "metadata": {},
   "outputs": [
    {
     "data": {
      "image/png": "[encoded data removed]",
      "text/plain": [
       "<Figure size 432x288 with 1 Axes>"
      ]
     },
     "metadata": {
      "needs_background": "light"
     },
     "output_type": "display_data"
    }
   ],
   "source": [
    "# User warning occurs when using normed, replaced with density \n",
    "count, bins, ignored = plt.hist(s, 15, density=True)\n",
    "plt.plot(bins, np.ones_like(bins), linewidth=2, color='r')\n",
    "plt.show()"
   ]
  },
  {
   "cell_type": "markdown",
   "metadata": {},
   "source": [
    "# Power"
   ]
  },
  {
   "cell_type": "markdown",
   "metadata": {},
   "source": [
    "Power draws samples in [0,1] with positive exponent a - 1 using the power distribution. The parameters passed through are:\n",
    "\n",
    "a - float greater than 0.\n",
    "\n",
    "size - int or tupal of ints. Outputs the given shape.\n",
    "\n",
    "Return:\n",
    "\n",
    "out -  Ndarry or scalar. Draws samples from the parameterized power distribution.\n",
    "\n",
    "\n",
    "The power function distribution is just the inverse of the Pareto distribution. It may also be seen as a special case of the Beta distribution. It can be used in modeling the over-reporting of insurance claims."
   ]
  },
  {
   "cell_type": "markdown",
   "metadata": {},
   "source": [
    "# Example"
   ]
  },
  {
   "cell_type": "code",
   "execution_count": 51,
   "metadata": {},
   "outputs": [
    {
     "data": {
      "image/png": "[encoded data removed]",
      "text/plain": [
       "<Figure size 432x288 with 1 Axes>"
      ]
     },
     "metadata": {
      "needs_background": "light"
     },
     "output_type": "display_data"
    }
   ],
   "source": [
    "# Given shape value \n",
    "a = 5. \n",
    "samples = 1000\n",
    "s = np.random.power(a, samples)\n",
    "count, bins, ignored = plt.hist(s, bins=30)\n",
    "x = np.linspace(0, 1, 100)\n",
    "y = a*x**(a-1.)\n",
    "normed_y = samples*np.diff(bins)[0]*y\n",
    "plt.plot(x, normed_y)\n",
    "plt.show()"
   ]
  },
  {
   "cell_type": "markdown",
   "metadata": {},
   "source": [
    "# Gamma"
   ]
  },
  {
   "cell_type": "markdown",
   "metadata": {},
   "source": [
    "Gamma draws samples with specfied parameters. These include:\n",
    "\n",
    "Shape - float value with the shape of the gamma distribution.\n",
    "\n",
    "Scale - float optional.\n",
    "\n",
    "Size - Int or tuple of ints. outputs shape.\n",
    "\n",
    "Returns:\n",
    "\n",
    "Out - Drawn samples from the parameterized gamma distribution.\n",
    "\n",
    "The Gamma distribution is often used to model the times to failure of electronic components, and occurs in processes for which the waiting times between Poisson distributed events are relevant."
   ]
  },
  {
   "cell_type": "markdown",
   "metadata": {},
   "source": [
    "# Example"
   ]
  },
  {
   "cell_type": "code",
   "execution_count": 52,
   "metadata": {},
   "outputs": [
    {
     "data": {
      "image/png": "[encoded data removed]",
      "text/plain": [
       "<Figure size 432x288 with 1 Axes>"
      ]
     },
     "metadata": {
      "needs_background": "light"
     },
     "output_type": "display_data"
    }
   ],
   "source": [
    "shape, scale = 2., 2.  # mean=4, std=2*sqrt(2)\n",
    "s = np.random.gamma(shape, scale, 1000)\n",
    "\n",
    "# Normed replaced with density \n",
    "count, bins, ignored = plt.hist(s, 50, density=True)\n",
    "y = bins**(shape-1)*(np.exp(-bins/scale) /\n",
    "                     (sps.gamma(shape)*scale**shape))\n",
    "plt.plot(bins, y, linewidth=2, color='r')\n",
    "plt.show()"
   ]
  },
  {
   "cell_type": "markdown",
   "metadata": {},
   "source": [
    "# Binomial "
   ]
  },
  {
   "cell_type": "markdown",
   "metadata": {},
   "source": [
    "Binomial is a probaplity distribution. It uses specified parameters such as:\n",
    "\n",
    "n - Usually a int but floats can be accepted also but will be changed to int values. \n",
    "\n",
    "p - Float >=0 and <= 1.\n",
    "\n",
    "size - int or tuple of ints which outputs the shape.\n",
    "\n",
    "Returns:\n",
    "\n",
    "out: Draws samples which is equal to the number of successes over the n trials.\n",
    "\n",
    "Used when p*n <=5, where p = population proportion estimate, and n = number of samples,"
   ]
  },
  {
   "cell_type": "markdown",
   "metadata": {},
   "source": [
    "# Example"
   ]
  },
  {
   "cell_type": "markdown",
   "metadata": {},
   "source": [
    "n represents the number of attempts while p gives the probability of success with each attempt."
   ]
  },
  {
   "cell_type": "code",
   "execution_count": 53,
   "metadata": {},
   "outputs": [
    {
     "data": {
      "text/plain": [
       "array([3, 4, 3, 4, 3, 2, 1, 1, 1, 2])"
      ]
     },
     "execution_count": 53,
     "metadata": {},
     "output_type": "execute_result"
    }
   ],
   "source": [
    "n, p = 5, .5\n",
    "s = np.random.binomial(n, p, 10)\n",
    "# Print out s\n",
    "s"
   ]
  },
  {
   "cell_type": "markdown",
   "metadata": {},
   "source": [
    "Plots out array s with binomial and frequency labels. "
   ]
  },
  {
   "cell_type": "code",
   "execution_count": 54,
   "metadata": {},
   "outputs": [
    {
     "data": {
      "image/png": "[encoded data removed]",
      "text/plain": [
       "<Figure size 432x288 with 1 Axes>"
      ]
     },
     "metadata": {
      "needs_background": "light"
     },
     "output_type": "display_data"
    }
   ],
   "source": [
    "plt.plot(s)\n",
    "plt.xlabel('binomial')\n",
    "plt.ylabel('frequency')\n",
    "plt.show()"
   ]
  },
  {
   "cell_type": "markdown",
   "metadata": {},
   "source": [
    "# Random Generator"
   ]
  },
  {
   "cell_type": "markdown",
   "metadata": {},
   "source": [
    "Mainly used for cryptography. Can help with generating random numbers for specific purposes such as in video games.\n",
    "\n",
    "This will include Random Sample and Random Seed."
   ]
  },
  {
   "cell_type": "markdown",
   "metadata": {},
   "source": [
    "## Random Sample"
   ]
  },
  {
   "cell_type": "markdown",
   "metadata": {},
   "source": [
    "Random_sample method is used random number values with a half open interval."
   ]
  },
  {
   "cell_type": "code",
   "execution_count": 55,
   "metadata": {},
   "outputs": [
    {
     "data": {
      "text/plain": [
       "0.5286356990559996"
      ]
     },
     "execution_count": 55,
     "metadata": {},
     "output_type": "execute_result"
    }
   ],
   "source": [
    "np.random.random_sample()"
   ]
  },
  {
   "cell_type": "code",
   "execution_count": 56,
   "metadata": {},
   "outputs": [
    {
     "data": {
      "text/plain": [
       "array([[0.43694329, 0.2395132 , 0.56728408, 0.76253839],\n",
       "       [0.58745487, 0.67907824, 0.08574948, 0.27267976],\n",
       "       [0.56546583, 0.01356154, 0.59533869, 0.20624529]])"
      ]
     },
     "execution_count": 56,
     "metadata": {},
     "output_type": "execute_result"
    }
   ],
   "source": [
    "np.random.random_sample((3,4))"
   ]
  },
  {
   "cell_type": "code",
   "execution_count": 57,
   "metadata": {},
   "outputs": [
    {
     "data": {
      "text/plain": [
       "array([0.41494655, 0.33500542])"
      ]
     },
     "execution_count": 57,
     "metadata": {},
     "output_type": "execute_result"
    }
   ],
   "source": [
    "np.random.random_sample((2))"
   ]
  },
  {
   "cell_type": "markdown",
   "metadata": {},
   "source": [
    "## Random Seed"
   ]
  },
  {
   "cell_type": "markdown",
   "metadata": {},
   "source": [
    "Used in states, can be called on again to reinitalize the seed."
   ]
  },
  {
   "cell_type": "code",
   "execution_count": 58,
   "metadata": {},
   "outputs": [
    {
     "name": "stdout",
     "output_type": "stream",
     "text": [
      "[[0.22199317 0.87073231 0.20671916 0.91861091]\n",
      " [0.48841119 0.61174386 0.76590786 0.51841799]\n",
      " [0.2968005  0.18772123 0.08074127 0.7384403 ]]\n"
     ]
    }
   ],
   "source": [
    "# Generates seed with random numbers\n",
    "np.random.seed(5)\n",
    "numberGen = np.random.rand(3,4)\n",
    "print(numberGen)"
   ]
  },
  {
   "cell_type": "markdown",
   "metadata": {},
   "source": [
    "# References"
   ]
  },
  {
   "cell_type": "markdown",
   "metadata": {},
   "source": [
    "NumPy Documentation - https://docs.scipy.org/doc/numpy-1.14.1/reference/routines.random.html\n",
    "\n",
    "Cheat Sheet - https://www.dataquest.io/blog/numpy-cheat-sheet/\n",
    "    \n",
    "NumPy website - http://www.numpy.org/\n",
    "    \n",
    "https://docs.scipy.org/doc/numpy/user/quickstart.html\n",
    "    \n",
    "Numerical package for pyhton - http://www.numpy.org/\n",
    "\n",
    "Tutorial - https://docs.scipy.org/doc/numpy/user/quickstart.html"
   ]
  }
 ],
 "metadata": {
  "kernelspec": {
   "display_name": "Python 3",
   "language": "python",
   "name": "python3"
  },
  "language_info": {
   "codemirror_mode": {
    "name": "ipython",
    "version": 3
   },
   "file_extension": ".py",
   "mimetype": "text/x-python",
   "name": "python",
   "nbconvert_exporter": "python",
   "pygments_lexer": "ipython3",
   "version": "3.6.7"
  }
 },
 "nbformat": 4,
 "nbformat_minor": 2
}
