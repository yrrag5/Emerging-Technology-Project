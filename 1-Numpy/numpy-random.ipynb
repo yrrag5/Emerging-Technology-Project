{
 "cells": [
  {
   "cell_type": "markdown",
   "metadata": {},
   "source": [
    "# Numpy-Random Notebook"
   ]
  },
  {
   "cell_type": "markdown",
   "metadata": {},
   "source": [
    "Author - Garry Cummins\n",
    "\n",
    "ID - G00335806"
   ]
  },
  {
   "cell_type": "markdown",
   "metadata": {},
   "source": [
    "# Notebook Contents\n",
    "\n",
    " \n",
    "**[Introduction]()**\n",
    "***\n",
    "**[Numpy Random Package]()**\n",
    "***\n",
    "**[Imports used and required for numpy]()**\n",
    "***\n",
    "**[Samples of numpy uses]()**\n",
    "***\n",
    "**[MathPlot Graphing Data]()**\n",
    "***\n",
    "**[ Examples of Distributions used for Numpy]()**\n",
    "***\n",
    "-  **[Uniform]()**\n",
    "***\n",
    "-  **[Power]()**\n",
    "***\n",
    "-  **[Gamma]()**\n",
    "***\n",
    "-  **[Binomial]()**\n",
    "***\n",
    "  **[Random Generator]()**\n",
    "***\n",
    "-  **[Random Sample]()**\n",
    "***\n",
    "-  **[Random Seed]()**\n",
    "***\n",
    "  **[References]()**\n",
    "***\n"
   ]
  },
  {
   "cell_type": "markdown",
   "metadata": {},
   "source": [
    "# Numpy Random Package"
   ]
  },
  {
   "cell_type": "markdown",
   "metadata": {},
   "source": [
    "NumPy is used as the fundamental package for scientific computing with Python. It uses tools for intergreated code(C/C++) and N-dimensional array objects.\n",
    "\n",
    "Besides its obvious scientific uses, NumPy can also be used as an efficient multi-dimensional container of generic data."
   ]
  },
  {
   "cell_type": "markdown",
   "metadata": {},
   "source": [
    "# Imports used and required for numpy"
   ]
  },
  {
   "cell_type": "code",
   "execution_count": 2,
   "metadata": {},
   "outputs": [],
   "source": [
    "# All imports used for numpy notebook\n",
    "import numpy as np\n",
    "# Used for ploting data on a graph\n",
    "import matplotlib.pyplot as plt\n",
    "# Used for gamma distribution\n",
    "import scipy.special as sps"
   ]
  },
  {
   "cell_type": "markdown",
   "metadata": {},
   "source": [
    "# Samples of numpy uses"
   ]
  },
  {
   "cell_type": "code",
   "execution_count": 3,
   "metadata": {},
   "outputs": [
    {
     "data": {
      "text/plain": [
       "4.63709456391888"
      ]
     },
     "execution_count": 3,
     "metadata": {},
     "output_type": "execute_result"
    }
   ],
   "source": [
    "# Generates random double number from 0 to 10\n",
    "np.random.uniform(0.0, 10.0)"
   ]
  },
  {
   "cell_type": "code",
   "execution_count": 4,
   "metadata": {},
   "outputs": [
    {
     "data": {
      "text/plain": [
       "array([[ 0,  1,  2,  3,  4],\n",
       "       [ 5,  6,  7,  8,  9],\n",
       "       [10, 11, 12, 13, 14]])"
      ]
     },
     "execution_count": 4,
     "metadata": {},
     "output_type": "execute_result"
    }
   ],
   "source": [
    "np.arange(15).reshape(3, 5)\n"
   ]
  },
  {
   "cell_type": "code",
   "execution_count": 5,
   "metadata": {},
   "outputs": [
    {
     "data": {
      "text/plain": [
       "array([ 0,  1,  2,  3,  4,  5,  6,  7,  8,  9, 10, 11, 12, 13, 14])"
      ]
     },
     "execution_count": 5,
     "metadata": {},
     "output_type": "execute_result"
    }
   ],
   "source": [
    "np.arange(15)"
   ]
  },
  {
   "cell_type": "code",
   "execution_count": 6,
   "metadata": {},
   "outputs": [
    {
     "data": {
      "text/plain": [
       "array([[1., 1., 1., 1.],\n",
       "       [1., 1., 1., 1.],\n",
       "       [1., 1., 1., 1.]])"
      ]
     },
     "execution_count": 6,
     "metadata": {},
     "output_type": "execute_result"
    }
   ],
   "source": [
    "np.ones((3,4))"
   ]
  },
  {
   "cell_type": "code",
   "execution_count": 7,
   "metadata": {},
   "outputs": [
    {
     "data": {
      "text/plain": [
       "4.90695035150398"
      ]
     },
     "execution_count": 7,
     "metadata": {},
     "output_type": "execute_result"
    }
   ],
   "source": [
    "np.random.normal(5.0, 1.0)"
   ]
  },
  {
   "cell_type": "markdown",
   "metadata": {},
   "source": [
    "# Matplotlib graphing data"
   ]
  },
  {
   "cell_type": "code",
   "execution_count": 8,
   "metadata": {},
   "outputs": [
    {
     "data": {
      "text/plain": [
       "([array([0., 0., 0., 0., 1., 0., 0., 1., 1., 0.]),\n",
       "  array([3., 0., 0., 0., 0., 0., 0., 0., 0., 0.]),\n",
       "  array([0., 0., 0., 0., 1., 0., 0., 0., 0., 2.]),\n",
       "  array([1., 2., 0., 0., 0., 0., 0., 0., 0., 0.])],\n",
       " array([14.39609602, 22.73031683, 31.06453764, 39.39875845, 47.73297926,\n",
       "        56.06720007, 64.40142087, 72.73564168, 81.06986249, 89.4040833 ,\n",
       "        97.73830411]),\n",
       " <a list of 4 Lists of Patches objects>)"
      ]
     },
     "execution_count": 8,
     "metadata": {},
     "output_type": "execute_result"
    },
    {
     "data": {
      "image/png": "[encoded data removed]",
      "text/plain": [
       "<Figure size 432x288 with 1 Axes>"
      ]
     },
     "metadata": {
      "needs_background": "light"
     },
     "output_type": "display_data"
    }
   ],
   "source": [
    "x = np.random.rand(3,4)*100 \n",
    "plt.hist(x)"
   ]
  },
  {
   "cell_type": "code",
   "execution_count": 9,
   "metadata": {},
   "outputs": [
    {
     "data": {
      "image/png": "[encoded data removed]",
      "text/plain": [
       "<Figure size 432x288 with 1 Axes>"
      ]
     },
     "metadata": {
      "needs_background": "light"
     },
     "output_type": "display_data"
    }
   ],
   "source": [
    "plt.plot([1,2,3,4,5])\n",
    "plt.ylabel('Test')\n",
    "plt.show()"
   ]
  },
  {
   "cell_type": "markdown",
   "metadata": {},
   "source": [
    "#  Examples of Distributions used for Numpy "
   ]
  },
  {
   "cell_type": "markdown",
   "metadata": {},
   "source": [
    "## Uniform"
   ]
  },
  {
   "cell_type": "markdown",
   "metadata": {},
   "source": [
    "Uniform draws out samples from the uniform distribution - (numpy.random.uniform) The parameters passed through are:\n",
    "\n",
    "Low - Float, optional lower boundary of the ouput interval.\n",
    "\n",
    "High - Float, optional upper boundary of the ouput interval.\n",
    "\n",
    "Size - Int, ouputs the shape.\n",
    "\n",
    "Out - Draws samples of uniform distribution.\n",
    "\n"
   ]
  },
  {
   "cell_type": "code",
   "execution_count": 10,
   "metadata": {},
   "outputs": [],
   "source": [
    "# Random numbers generated\n",
    "s = np.random.uniform(-1,0,1000)"
   ]
  },
  {
   "cell_type": "code",
   "execution_count": 11,
   "metadata": {},
   "outputs": [
    {
     "data": {
      "image/png": "[encoded data removed]",
      "text/plain": [
       "<Figure size 432x288 with 1 Axes>"
      ]
     },
     "metadata": {
      "needs_background": "light"
     },
     "output_type": "display_data"
    }
   ],
   "source": [
    "# Gives random distribution probability through the density function\n",
    "# User warning occurs when using normed, replaced with density \n",
    "count, bins, ignored = plt.hist(s, 15, density=True)\n",
    "plt.plot(bins, np.ones_like(bins), linewidth=2, color='r')\n",
    "plt.show()"
   ]
  },
  {
   "cell_type": "markdown",
   "metadata": {},
   "source": [
    "# Power"
   ]
  },
  {
   "cell_type": "markdown",
   "metadata": {},
   "source": [
    "Power draws samples in [0,1] with positive exponent a - 1 using the power distribtution. The parameters passed through are:\n",
    "\n",
    "a - float greater than 0.\n",
    "\n",
    "size - int or tupal of ints. Outputs the given shape.\n",
    "\n",
    "Return:\n",
    "\n",
    "out -  Ndarry or scalar. Draws samples from the parameterized power distribution."
   ]
  },
  {
   "cell_type": "markdown",
   "metadata": {},
   "source": [
    "# Example"
   ]
  },
  {
   "cell_type": "code",
   "execution_count": 12,
   "metadata": {},
   "outputs": [
    {
     "ename": "IndentationError",
     "evalue": "unexpected indent (<ipython-input-12-aabeae928ea1>, line 3)",
     "output_type": "error",
     "traceback": [
      "\u001b[1;36m  File \u001b[1;32m\"<ipython-input-12-aabeae928ea1>\"\u001b[1;36m, line \u001b[1;32m3\u001b[0m\n\u001b[1;33m    samples = 1000\u001b[0m\n\u001b[1;37m    ^\u001b[0m\n\u001b[1;31mIndentationError\u001b[0m\u001b[1;31m:\u001b[0m unexpected indent\n"
     ]
    }
   ],
   "source": [
    "# Shape value\n",
    "a = 5. \n",
    " samples = 1000\n",
    "s = np.random.power(a, samples)\n",
    "count, bins, ignored = plt.hist(s, bins=30)\n",
    "x = np.linspace(0, 1, 100)\n",
    "y = a*x**(a-1.)\n",
    "normed_y = samples*np.diff(bins)[0]*y\n",
    "plt.plot(x, normed_y)\n",
    "plt.show()"
   ]
  },
  {
   "cell_type": "code",
   "execution_count": null,
   "metadata": {},
   "outputs": [],
   "source": []
  },
  {
   "cell_type": "markdown",
   "metadata": {},
   "source": [
    "# Gamma"
   ]
  },
  {
   "cell_type": "markdown",
   "metadata": {},
   "source": [
    "Gamma draws samples with specfied parameters. These include:\n",
    "\n",
    "Shape - float value with the shape of the gamma distribution.\n",
    "\n",
    "Scale - float optional.\n",
    "\n",
    "Size - Int or tuple of ints. outputs shape.\n",
    "\n",
    "Returns:\n",
    "\n",
    "Out - Drawn samples from the parameterized gamma distribution."
   ]
  },
  {
   "cell_type": "markdown",
   "metadata": {},
   "source": [
    "# Example"
   ]
  },
  {
   "cell_type": "code",
   "execution_count": null,
   "metadata": {},
   "outputs": [],
   "source": [
    "shape, scale = 2., 2.  # mean=4, std=2*sqrt(2)\n",
    "s = np.random.gamma(shape, scale, 1000)\n",
    "\n",
    "# Normed replaced with density \n",
    "count, bins, ignored = plt.hist(s, 50, density=True)\n",
    "y = bins**(shape-1)*(np.exp(-bins/scale) /\n",
    "                     (sps.gamma(shape)*scale**shape))\n",
    "plt.plot(bins, y, linewidth=2, color='r')\n",
    "plt.show()"
   ]
  },
  {
   "cell_type": "markdown",
   "metadata": {},
   "source": [
    "# Binomial "
   ]
  },
  {
   "cell_type": "markdown",
   "metadata": {},
   "source": [
    "Binomial is a probaplity distribution. It uses specified parameters such as:\n",
    "\n",
    "n - Usually a int but floats can be accepted also but will be changed to int values. \n",
    "\n",
    "p - Float >=0 and <= 1.\n",
    "\n",
    "size - int or tuple of ints which outputs the shape.\n",
    "\n",
    "Returns:\n",
    "\n",
    "out: Draws samples which is equal to the number of successes over the n trials."
   ]
  },
  {
   "cell_type": "markdown",
   "metadata": {},
   "source": [
    "# Example"
   ]
  },
  {
   "cell_type": "code",
   "execution_count": null,
   "metadata": {},
   "outputs": [],
   "source": [
    "n, p = 5, .5  # number of trials, probability of each trial\n",
    "s = np.random.binomial(n, p, 10)\n",
    "s"
   ]
  },
  {
   "cell_type": "code",
   "execution_count": null,
   "metadata": {},
   "outputs": [],
   "source": [
    "plt.plot(s)\n",
    "plt.xlabel('binomial')\n",
    "plt.ylabel('freqyency')\n",
    "plt.show()"
   ]
  },
  {
   "cell_type": "markdown",
   "metadata": {},
   "source": [
    "# Random Generator"
   ]
  },
  {
   "cell_type": "markdown",
   "metadata": {},
   "source": [
    "## Random Sample"
   ]
  },
  {
   "cell_type": "code",
   "execution_count": 21,
   "metadata": {},
   "outputs": [
    {
     "data": {
      "text/plain": [
       "0.14416430065342045"
      ]
     },
     "execution_count": 21,
     "metadata": {},
     "output_type": "execute_result"
    }
   ],
   "source": [
    "np.random.random_sample()"
   ]
  },
  {
   "cell_type": "code",
   "execution_count": 25,
   "metadata": {},
   "outputs": [
    {
     "data": {
      "text/plain": [
       "array([[0.44130922, 0.15830987, 0.87993703, 0.27408646],\n",
       "       [0.41423502, 0.29607993, 0.62878791, 0.57983781],\n",
       "       [0.5999292 , 0.26581912, 0.28468588, 0.25358821]])"
      ]
     },
     "execution_count": 25,
     "metadata": {},
     "output_type": "execute_result"
    }
   ],
   "source": [
    "np.random.random_sample((3,4))"
   ]
  },
  {
   "cell_type": "code",
   "execution_count": 26,
   "metadata": {},
   "outputs": [
    {
     "data": {
      "text/plain": [
       "array([0.32756395, 0.1441643 ])"
      ]
     },
     "execution_count": 26,
     "metadata": {},
     "output_type": "execute_result"
    }
   ],
   "source": [
    "np.random.random_sample((2))"
   ]
  },
  {
   "cell_type": "markdown",
   "metadata": {},
   "source": [
    "## Random Seed"
   ]
  },
  {
   "cell_type": "code",
   "execution_count": 22,
   "metadata": {},
   "outputs": [
    {
     "name": "stdout",
     "output_type": "stream",
     "text": [
      "[[0.22199317 0.87073231 0.20671916 0.91861091]\n",
      " [0.48841119 0.61174386 0.76590786 0.51841799]\n",
      " [0.2968005  0.18772123 0.08074127 0.7384403 ]]\n"
     ]
    }
   ],
   "source": [
    "np.random.seed(5)\n",
    "numberGen = np.random.rand(3,4)\n",
    "print(numberGen)"
   ]
  },
  {
   "cell_type": "code",
   "execution_count": null,
   "metadata": {},
   "outputs": [],
   "source": []
  },
  {
   "cell_type": "code",
   "execution_count": null,
   "metadata": {},
   "outputs": [],
   "source": []
  },
  {
   "cell_type": "markdown",
   "metadata": {},
   "source": [
    "# References"
   ]
  },
  {
   "cell_type": "markdown",
   "metadata": {},
   "source": [
    "NumPy Documentation - https://docs.scipy.org/doc/numpy-1.14.1/reference/routines.random.html\n",
    "\n",
    "Cheat Sheet - https://www.dataquest.io/blog/numpy-cheat-sheet/\n",
    "    \n",
    "NumPy website - http://www.numpy.org/\n",
    "    \n",
    "https://docs.scipy.org/doc/numpy/user/quickstart.html\n",
    "    \n",
    "Numerical package for pyhton - http://www.numpy.org/\n",
    "\n",
    "tutorial - https://docs.scipy.org/doc/numpy/user/quickstart.html"
   ]
  },
  {
   "cell_type": "code",
   "execution_count": null,
   "metadata": {},
   "outputs": [],
   "source": []
  }
 ],
 "metadata": {
  "kernelspec": {
   "display_name": "Python 3",
   "language": "python",
   "name": "python3"
  },
  "language_info": {
   "codemirror_mode": {
    "name": "ipython",
    "version": 3
   },
   "file_extension": ".py",
   "mimetype": "text/x-python",
   "name": "python",
   "nbconvert_exporter": "python",
   "pygments_lexer": "ipython3",
   "version": "3.7.0"
  }
 },
 "nbformat": 4,
 "nbformat_minor": 2
}
