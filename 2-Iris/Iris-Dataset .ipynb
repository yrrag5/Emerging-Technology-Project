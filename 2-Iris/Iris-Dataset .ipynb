{
 "cells": [
  {
   "cell_type": "markdown",
   "metadata": {},
   "source": [
    "# Iris Dataset Notebook\n",
    "\n",
    "![pandas logo](https://pandas.pydata.org/_static/pandas_logo.png)\n",
    "\n",
    "![Iris flowers](https://s3.amazonaws.com/assets.datacamp.com/blog_assets/Machine+Learning+R/iris-machinelearning.png)\n",
    "\n",
    "***\n",
    " # Notebook Contents\n",
    " \n",
    " **[Introduction]()**\n",
    " ***\n",
    " **[Imports used and Required for Iris Dataset]()**\n",
    " ***\n",
    " **[Importing Iris Dataset]()**\n",
    " ***\n",
    " **[Viewing Dataset]()**\n",
    " ***\n",
    "\n",
    "# Pandas website\n",
    "*[https://pandas.pydata.org/](https://pandas.pydata.org/)*\n",
    "\n",
    "\n",
    "\n",
    "***\n",
    "\n",
    "\n",
    "\n",
    "***\n",
    "\n",
    "**[Python for Data Analysis notebooks](https://github.com/wesm/pydata-book)**\n",
    "\n",
    "*[https://github.com/wesm/pydata-book](https://github.com/wesm/pydata-book)*\n",
    "\n",
    "Materials and IPython notebooks for \"Python for Data Analysis\" by Wes McKinney, published by O'Reilly Media\n",
    "\n",
    "***\n",
    "\n",
    "**[10 Minutes to pandas](http://pandas.pydata.org/pandas-docs/stable/10min.html)**\n",
    "\n",
    "*[http://pandas.pydata.org/pandas-docs/stable/10min.html](http://pandas.pydata.org/pandas-docs/stable/10min.html)*\n",
    "\n",
    "Official pandas tutorial.\n",
    "\n",
    "***\n",
    "\n",
    "**[UC Irvine Machine Learning Repository: Iris Data Set](https://archive.ics.uci.edu/ml/datasets/iris)**\n",
    "\n",
    "*[https://archive.ics.uci.edu/ml/datasets/iris](https://archive.ics.uci.edu/ml/datasets/iris)*\n",
    "\n",
    "About the Iris data set from UC Irvine's machine learning repository."
   ]
  },
  {
   "cell_type": "code",
   "execution_count": 1,
   "metadata": {},
   "outputs": [],
   "source": [
    "# All imports used for iris dataset notebook\n",
    "import pandas as pd\n",
    "import seaborn as sns\n",
    "import matplotlib.pyplot as plt\n",
    "import warnings\n",
    "warnings.filterwarnings(\"ignore\", category=FutureWarning)\n"
   ]
  },
  {
   "cell_type": "markdown",
   "metadata": {},
   "source": [
    "# Importing the Iris Dataset"
   ]
  },
  {
   "cell_type": "code",
   "execution_count": null,
   "metadata": {},
   "outputs": [],
   "source": [
    "# Iris Dataset being pulled from a URL \n",
    "ID = pd.read_csv(\"https://raw.githubusercontent.com/uiuc-cse/data-fa14/gh-pages/data/iris.csv\")"
   ]
  },
  {
   "cell_type": "code",
   "execution_count": null,
   "metadata": {},
   "outputs": [],
   "source": [
    "# Group the dataset by type of species \n",
    "ID.groupby('species').size()\n"
   ]
  },
  {
   "cell_type": "markdown",
   "metadata": {},
   "source": [
    "# Viewing Dataset"
   ]
  },
  {
   "cell_type": "code",
   "execution_count": null,
   "metadata": {},
   "outputs": [],
   "source": [
    "ID"
   ]
  },
  {
   "cell_type": "code",
   "execution_count": null,
   "metadata": {},
   "outputs": [],
   "source": [
    "ID.head(5)\n"
   ]
  },
  {
   "cell_type": "code",
   "execution_count": null,
   "metadata": {},
   "outputs": [],
   "source": [
    "ID.tail(5)\n"
   ]
  },
  {
   "cell_type": "code",
   "execution_count": null,
   "metadata": {},
   "outputs": [],
   "source": [
    "ID.describe"
   ]
  },
  {
   "cell_type": "markdown",
   "metadata": {},
   "source": [
    "# Plotting through graphs"
   ]
  },
  {
   "cell_type": "code",
   "execution_count": null,
   "metadata": {},
   "outputs": [],
   "source": [
    "#Ignore furture warnings for non-tuple sequence \n",
    "# + marker used to clearly identify the points\n",
    "sns.pairplot(ID, hue=\"species\", markers ='+')\n",
    "plt.show()"
   ]
  },
  {
   "cell_type": "markdown",
   "metadata": {},
   "source": [
    "# Bar plot"
   ]
  },
  {
   "cell_type": "code",
   "execution_count": null,
   "metadata": {
    "scrolled": true
   },
   "outputs": [],
   "source": [
    "barPW = sns.barplot(x='species', y='petal_width', data=ID)\n",
    "plt.show()\n",
    "barPL = sns.barplot(x='species', y='petal_length', data=ID)\n",
    "plt.show()\n",
    "barSW = sns.barplot(x='species', y='sepal_width', data=ID)\n",
    "plt.show()\n",
    "barSL = sns.barplot(x='species', y='sepal_length', data=ID)\n",
    "plt.show()"
   ]
  },
  {
   "cell_type": "markdown",
   "metadata": {},
   "source": [
    "# Violet Plot"
   ]
  },
  {
   "cell_type": "code",
   "execution_count": null,
   "metadata": {},
   "outputs": [],
   "source": [
    "sns.violinplot(x='species', y='sepal_width', data=ID, inner='quartile')\n",
    "plt.show()\n",
    "sns.violinplot(x='species', y='sepal_length', data=ID, inner='quartile')\n",
    "plt.show()\n",
    "sns.violinplot(x='species', y='petal_width', data=ID, inner='quartile')\n",
    "plt.show()\n",
    "sns.violinplot(x='species', y='petal_length', data=ID, inner='quartile')\n",
    "plt.show()"
   ]
  },
  {
   "cell_type": "code",
   "execution_count": null,
   "metadata": {},
   "outputs": [],
   "source": []
  }
 ],
 "metadata": {
  "kernelspec": {
   "display_name": "Python 3",
   "language": "python",
   "name": "python3"
  },
  "language_info": {
   "codemirror_mode": {
    "name": "ipython",
    "version": 3
   },
   "file_extension": ".py",
   "mimetype": "text/x-python",
   "name": "python",
   "nbconvert_exporter": "python",
   "pygments_lexer": "ipython3",
   "version": "3.6.7"
  }
 },
 "nbformat": 4,
 "nbformat_minor": 2
}
